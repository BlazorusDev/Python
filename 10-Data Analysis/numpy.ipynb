{
 "cells": [
  {
   "cell_type": "code",
   "execution_count": 1,
   "id": "c3eb0a60",
   "metadata": {},
   "outputs": [
    {
     "name": "stdout",
     "output_type": "stream",
     "text": [
      "Requirement already satisfied: numpy in e:\\python\\my_env\\lib\\site-packages (2.2.0)\n"
     ]
    },
    {
     "name": "stderr",
     "output_type": "stream",
     "text": [
      "\n",
      "[notice] A new release of pip is available: 24.0 -> 25.2\n",
      "[notice] To update, run: python.exe -m pip install --upgrade pip\n"
     ]
    }
   ],
   "source": [
    "!pip install numpy"
   ]
  },
  {
   "cell_type": "code",
   "execution_count": 2,
   "id": "96d00227",
   "metadata": {},
   "outputs": [
    {
     "name": "stdout",
     "output_type": "stream",
     "text": [
      "Requirement already satisfied: pip in e:\\python\\my_env\\lib\\site-packages (24.0)\n",
      "Collecting pip\n",
      "  Downloading pip-25.2-py3-none-any.whl.metadata (4.7 kB)\n",
      "Downloading pip-25.2-py3-none-any.whl (1.8 MB)\n",
      "   ---------------------------------------- 0.0/1.8 MB ? eta -:--:--\n",
      "   ---------------------------------------- 0.0/1.8 MB ? eta -:--:--\n",
      "   ---------------------------------------- 0.0/1.8 MB ? eta -:--:--\n",
      "    --------------------------------------- 0.0/1.8 MB 330.3 kB/s eta 0:00:06\n",
      "   - -------------------------------------- 0.1/1.8 MB 550.5 kB/s eta 0:00:04\n",
      "   ---- ----------------------------------- 0.2/1.8 MB 1.1 MB/s eta 0:00:02\n",
      "   ----------- ---------------------------- 0.5/1.8 MB 2.7 MB/s eta 0:00:01\n",
      "   ------------------------------------- -- 1.6/1.8 MB 7.0 MB/s eta 0:00:01\n",
      "   ---------------------------------------- 1.8/1.8 MB 6.6 MB/s eta 0:00:00\n"
     ]
    },
    {
     "name": "stderr",
     "output_type": "stream",
     "text": [
      "ERROR: To modify pip, please run the following command:\n",
      "E:\\Python\\my_env\\Scripts\\python.exe -m pip install --upgrade pip\n",
      "\n",
      "[notice] A new release of pip is available: 24.0 -> 25.2\n",
      "[notice] To update, run: python.exe -m pip install --upgrade pip\n"
     ]
    }
   ],
   "source": [
    "!pip install --upgrade pip"
   ]
  },
  {
   "cell_type": "code",
   "execution_count": 3,
   "id": "7bc1599a",
   "metadata": {},
   "outputs": [
    {
     "name": "stdout",
     "output_type": "stream",
     "text": [
      "1D Array: [1 2 3 4 5]\n"
     ]
    }
   ],
   "source": [
    "import numpy as np\n",
    "\n",
    "# Creating a 1D array\n",
    "arr1 = np.array([1, 2, 3, 4, 5])\n",
    "print(\"1D Array:\", arr1)"
   ]
  },
  {
   "cell_type": "code",
   "execution_count": 4,
   "id": "4a9159f2",
   "metadata": {},
   "outputs": [
    {
     "name": "stdout",
     "output_type": "stream",
     "text": [
      "<class 'numpy.ndarray'>\n"
     ]
    }
   ],
   "source": [
    "print(type(arr1))  # Output: <class 'numpy.ndarray'>"
   ]
  },
  {
   "cell_type": "code",
   "execution_count": 5,
   "id": "9056d197",
   "metadata": {},
   "outputs": [
    {
     "name": "stdout",
     "output_type": "stream",
     "text": [
      "Array Shape: (5,)\n"
     ]
    }
   ],
   "source": [
    "print(\"Array Shape:\", arr1.shape)"
   ]
  },
  {
   "cell_type": "code",
   "execution_count": 6,
   "id": "96eac281",
   "metadata": {},
   "outputs": [],
   "source": [
    "arr2=np.array([1,2,3,4,5,6]).reshape(2,3)"
   ]
  },
  {
   "cell_type": "code",
   "execution_count": 7,
   "id": "661de140",
   "metadata": {},
   "outputs": [
    {
     "data": {
      "text/plain": [
       "array([[1, 2, 3],\n",
       "       [4, 5, 6]])"
      ]
     },
     "execution_count": 7,
     "metadata": {},
     "output_type": "execute_result"
    }
   ],
   "source": [
    "arr2"
   ]
  },
  {
   "cell_type": "code",
   "execution_count": 8,
   "id": "4a4712b3",
   "metadata": {},
   "outputs": [
    {
     "name": "stdout",
     "output_type": "stream",
     "text": [
      "2D Array:\n",
      " [[1 2 3]\n",
      " [4 5 6]]\n"
     ]
    }
   ],
   "source": [
    "# creating 2D array\n",
    "arr2 = np.array([[1, 2, 3], [4, 5, 6]])\n",
    "print(\"2D Array:\\n\", arr2)"
   ]
  },
  {
   "cell_type": "code",
   "execution_count": 10,
   "id": "37b44254",
   "metadata": {},
   "outputs": [
    {
     "data": {
      "text/plain": [
       "array([[0],\n",
       "       [2],\n",
       "       [4],\n",
       "       [6],\n",
       "       [8]])"
      ]
     },
     "execution_count": 10,
     "metadata": {},
     "output_type": "execute_result"
    }
   ],
   "source": [
    "np.arange(0,10,2).reshape(5,1)"
   ]
  },
  {
   "cell_type": "code",
   "execution_count": 11,
   "id": "1f949716",
   "metadata": {},
   "outputs": [
    {
     "data": {
      "text/plain": [
       "array([[1., 1., 1., 1.],\n",
       "       [1., 1., 1., 1.],\n",
       "       [1., 1., 1., 1.]])"
      ]
     },
     "execution_count": 11,
     "metadata": {},
     "output_type": "execute_result"
    }
   ],
   "source": [
    "np.ones((3,4))"
   ]
  },
  {
   "cell_type": "code",
   "execution_count": 12,
   "id": "65b8cfa6",
   "metadata": {},
   "outputs": [
    {
     "data": {
      "text/plain": [
       "array([[1., 0., 0., 0.],\n",
       "       [0., 1., 0., 0.],\n",
       "       [0., 0., 1., 0.],\n",
       "       [0., 0., 0., 1.]])"
      ]
     },
     "execution_count": 12,
     "metadata": {},
     "output_type": "execute_result"
    }
   ],
   "source": [
    "# Idenity matrix\n",
    "np.eye(4)\n"
   ]
  },
  {
   "cell_type": "code",
   "execution_count": 13,
   "id": "b128d561",
   "metadata": {},
   "outputs": [
    {
     "name": "stdout",
     "output_type": "stream",
     "text": [
      "Addition: [5 7 9]\n",
      "Subtraction: [-3 -3 -3]\n",
      "Multiplication: [ 4 10 18]\n",
      "Division: [0.25 0.4  0.5 ]\n"
     ]
    }
   ],
   "source": [
    "# NUmpy Vectorized Operations\n",
    "a = np.array([1, 2, 3])\n",
    "b = np.array([4, 5, 6])\n",
    "\n",
    "# Element-wise addition\n",
    "print(\"Addition:\", a + b)\n",
    "\n",
    "# Element-wise Subtraction\n",
    "print(\"Subtraction:\", a - b)\n",
    "\n",
    "# Element-wise Multiplication\n",
    "print(\"Multiplication:\", a * b)\n",
    "\n",
    "# Element-wise Division\n",
    "print(\"Division:\", a / b)"
   ]
  },
  {
   "cell_type": "code",
   "execution_count": 14,
   "id": "198d665e",
   "metadata": {},
   "outputs": [
    {
     "name": "stdout",
     "output_type": "stream",
     "text": [
      "Square Root: [1. 2. 3. 4.]\n",
      "Exponential: [2.71828183e+00 5.45981500e+01 8.10308393e+03 8.88611052e+06]\n",
      "Sine: [ 0.84147098 -0.7568025   0.41211849 -0.28790332]\n",
      "Natural Logarithm: [0.         1.38629436 2.19722458 2.77258872]\n"
     ]
    }
   ],
   "source": [
    "# Universal Functions\n",
    "arr = np.array([1, 4, 9, 16])\n",
    "\n",
    "# Square root\n",
    "print(\"Square Root:\", np.sqrt(arr))\n",
    "\n",
    "# Exponential\n",
    "print(\"Exponential:\", np.exp(arr))\n",
    "\n",
    "# Sine\n",
    "print(\"Sine:\", np.sin(arr))\n",
    "\n",
    "# natural logarithm\n",
    "print(\"Natural Logarithm:\", np.log(arr))"
   ]
  },
  {
   "cell_type": "code",
   "execution_count": 17,
   "id": "db75f1ab",
   "metadata": {},
   "outputs": [
    {
     "name": "stdout",
     "output_type": "stream",
     "text": [
      "Original Array:\n",
      " [[ 10  20  30  40  50]\n",
      " [ 60  70  80  90 100]\n",
      " [110 120 130 140 150]]\n"
     ]
    }
   ],
   "source": [
    "# array Slicing and Indexing\n",
    "arr = np.array([[10, 20, 30, 40, 50],[60,70,80,90,100],[110,120,130,140,150]])\n",
    "print(\"Original Array:\\n\", arr)"
   ]
  },
  {
   "cell_type": "code",
   "execution_count": 18,
   "id": "e9ccfd26",
   "metadata": {},
   "outputs": [
    {
     "name": "stdout",
     "output_type": "stream",
     "text": [
      "Element at (0,0): 10\n",
      "Element at (1,2): 80\n",
      "Element at (2,4): 150\n"
     ]
    }
   ],
   "source": [
    "# Accessing elements\n",
    "print(\"Element at (0,0):\", arr[0, 0])\n",
    "print(\"Element at (1,2):\", arr[1, 2])\n",
    "print(\"Element at (2,4):\", arr[2, 4])"
   ]
  },
  {
   "cell_type": "code",
   "execution_count": 19,
   "id": "f198f9c9",
   "metadata": {},
   "outputs": [
    {
     "data": {
      "text/plain": [
       "array([[110, 120, 130, 140, 150]])"
      ]
     },
     "execution_count": 19,
     "metadata": {},
     "output_type": "execute_result"
    }
   ],
   "source": [
    "arr[2:]"
   ]
  },
  {
   "cell_type": "code",
   "execution_count": 20,
   "id": "529f9064",
   "metadata": {},
   "outputs": [
    {
     "data": {
      "text/plain": [
       "array([[ 60,  70,  80,  90, 100],\n",
       "       [110, 120, 130, 140, 150]])"
      ]
     },
     "execution_count": 20,
     "metadata": {},
     "output_type": "execute_result"
    }
   ],
   "source": [
    "arr[1:,]"
   ]
  },
  {
   "cell_type": "code",
   "execution_count": 21,
   "id": "bec22769",
   "metadata": {},
   "outputs": [
    {
     "data": {
      "text/plain": [
       "array([[ 80,  90, 100],\n",
       "       [130, 140, 150]])"
      ]
     },
     "execution_count": 21,
     "metadata": {},
     "output_type": "execute_result"
    }
   ],
   "source": [
    "arr[1:, 2:]"
   ]
  },
  {
   "cell_type": "code",
   "execution_count": 22,
   "id": "fb3d3d23",
   "metadata": {},
   "outputs": [],
   "source": [
    "# Modifying elements\n",
    "arr[0, 0] = 99"
   ]
  },
  {
   "cell_type": "code",
   "execution_count": 23,
   "id": "9b238f64",
   "metadata": {},
   "outputs": [
    {
     "data": {
      "text/plain": [
       "array([[ 99,  20,  30,  40,  50],\n",
       "       [ 60,  70,  80,  90, 100],\n",
       "       [110, 120, 130, 140, 150]])"
      ]
     },
     "execution_count": 23,
     "metadata": {},
     "output_type": "execute_result"
    }
   ],
   "source": [
    "arr"
   ]
  },
  {
   "cell_type": "code",
   "execution_count": 25,
   "id": "03c50394",
   "metadata": {},
   "outputs": [],
   "source": [
    "arr[1:, 2:] = 88"
   ]
  },
  {
   "cell_type": "code",
   "execution_count": 27,
   "id": "8c60bb28",
   "metadata": {},
   "outputs": [
    {
     "data": {
      "text/plain": [
       "array([[ 99,  20,  30,  40,  50],\n",
       "       [ 60,  70,  88,  88,  88],\n",
       "       [110, 120,  88,  88,  88]])"
      ]
     },
     "execution_count": 27,
     "metadata": {},
     "output_type": "execute_result"
    }
   ],
   "source": [
    "arr"
   ]
  },
  {
   "cell_type": "code",
   "execution_count": 28,
   "id": "c9bcc50f",
   "metadata": {},
   "outputs": [],
   "source": [
    "# Statistical Operations\n",
    "data = np.array([[1, 2, 3], [4, 5, 6], [7, 8, 9]])"
   ]
  },
  {
   "cell_type": "code",
   "execution_count": 30,
   "id": "206be176",
   "metadata": {},
   "outputs": [
    {
     "name": "stdout",
     "output_type": "stream",
     "text": [
      "Mean: 5.0\n",
      "Median: 5.0\n",
      "Standard Deviation: 2.581988897471611\n",
      "Normalized Data:\n",
      " [[0.    0.125 0.25 ]\n",
      " [0.375 0.5   0.625]\n",
      " [0.75  0.875 1.   ]]\n"
     ]
    }
   ],
   "source": [
    "# mean\n",
    "print(\"Mean:\", np.mean(data))\n",
    "# median\n",
    "print(\"Median:\", np.median(data))\n",
    "# standard deviation\n",
    "print(\"Standard Deviation:\", np.std(data))\n",
    "# Normalization\n",
    "normalized_data = (data - np.min(data)) / (np.max(data) - np.min(data))\n",
    "print(\"Normalized Data:\\n\", normalized_data)"
   ]
  },
  {
   "cell_type": "code",
   "execution_count": 31,
   "id": "02517ad1",
   "metadata": {},
   "outputs": [
    {
     "name": "stdout",
     "output_type": "stream",
     "text": [
      "Variance: 6.666666666666667\n"
     ]
    }
   ],
   "source": [
    "# variance\n",
    "print(\"Variance:\", np.var(data))"
   ]
  },
  {
   "cell_type": "code",
   "execution_count": 32,
   "id": "036101e4",
   "metadata": {},
   "outputs": [
    {
     "name": "stdout",
     "output_type": "stream",
     "text": [
      "Elements greater than 25: [False False  True  True  True]\n",
      "Elements less than or equal to 30: [ True  True  True False False]\n"
     ]
    }
   ],
   "source": [
    "# Logical Operations\n",
    "arr = np.array([10, 20, 30, 40, 50])\n",
    "\n",
    "# Elements greater than 25\n",
    "print(\"Elements greater than 25:\", arr > 25)\n",
    "\n",
    "# Elements less than or equal to 30\n",
    "print(\"Elements less than or equal to 30:\", arr <= 30)"
   ]
  },
  {
   "cell_type": "code",
   "execution_count": null,
   "id": "56db7d9c",
   "metadata": {},
   "outputs": [],
   "source": []
  }
 ],
 "metadata": {
  "kernelspec": {
   "display_name": "my_env",
   "language": "python",
   "name": "python3"
  },
  "language_info": {
   "codemirror_mode": {
    "name": "ipython",
    "version": 3
   },
   "file_extension": ".py",
   "mimetype": "text/x-python",
   "name": "python",
   "nbconvert_exporter": "python",
   "pygments_lexer": "ipython3",
   "version": "3.12.2"
  }
 },
 "nbformat": 4,
 "nbformat_minor": 5
}
