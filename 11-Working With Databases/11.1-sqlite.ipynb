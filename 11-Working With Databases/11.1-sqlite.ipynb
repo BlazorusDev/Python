{
 "cells": [
  {
   "cell_type": "code",
   "execution_count": 1,
   "id": "51444928",
   "metadata": {},
   "outputs": [],
   "source": [
    "import sqlite3"
   ]
  },
  {
   "cell_type": "code",
   "execution_count": 2,
   "id": "ee3010f2",
   "metadata": {},
   "outputs": [
    {
     "data": {
      "text/plain": [
       "<sqlite3.Connection at 0x24559afc310>"
      ]
     },
     "execution_count": 2,
     "metadata": {},
     "output_type": "execute_result"
    }
   ],
   "source": [
    "# Connect to a database (or create it if it doesn't exist)\n",
    "conn = sqlite3.connect('example.db')\n",
    "conn"
   ]
  },
  {
   "cell_type": "code",
   "execution_count": 3,
   "id": "0e58e01f",
   "metadata": {},
   "outputs": [],
   "source": [
    "cursor = conn.cursor()"
   ]
  },
  {
   "cell_type": "code",
   "execution_count": 4,
   "id": "20e705d8",
   "metadata": {},
   "outputs": [],
   "source": [
    "# Create a table\n",
    "cursor.execute('''CREATE TABLE IF NOT EXISTS users\n",
    "                  (id INTEGER PRIMARY KEY, name TEXT, age INTEGER)''')\n",
    "conn.commit()"
   ]
  },
  {
   "cell_type": "code",
   "execution_count": 5,
   "id": "7f71b33b",
   "metadata": {},
   "outputs": [],
   "source": [
    "cursor.execute(\"INSERT INTO users (name, age) VALUES (?, ?)\", ('Alice', 30))\n",
    "conn.commit()"
   ]
  },
  {
   "cell_type": "code",
   "execution_count": 6,
   "id": "e12c9847",
   "metadata": {},
   "outputs": [],
   "source": [
    "cursor.execute(\"SELECT * FROM users\")\n",
    "rows = cursor.fetchall()"
   ]
  },
  {
   "cell_type": "code",
   "execution_count": 7,
   "id": "d8817516",
   "metadata": {},
   "outputs": [
    {
     "name": "stdout",
     "output_type": "stream",
     "text": [
      "[(1, 'Alice', 30), (2, 'Alice', 30)]\n"
     ]
    }
   ],
   "source": [
    "print(rows)"
   ]
  },
  {
   "cell_type": "code",
   "execution_count": 8,
   "id": "6af52ba4",
   "metadata": {},
   "outputs": [],
   "source": [
    "# Upadate a record\n",
    "cursor.execute(\"UPDATE users SET age = ? WHERE name = ?\", (31, 'Alice'))\n",
    "conn.commit()"
   ]
  },
  {
   "cell_type": "code",
   "execution_count": 9,
   "id": "eab7cb38",
   "metadata": {},
   "outputs": [
    {
     "name": "stdout",
     "output_type": "stream",
     "text": [
      "[(1, 'Alice', 31), (2, 'Alice', 31)]\n"
     ]
    }
   ],
   "source": [
    "cursor.execute(\"SELECT * FROM users\")\n",
    "rows = cursor.fetchall()\n",
    "print(rows)"
   ]
  },
  {
   "cell_type": "code",
   "execution_count": 10,
   "id": "338d6116",
   "metadata": {},
   "outputs": [
    {
     "name": "stdout",
     "output_type": "stream",
     "text": [
      "[]\n"
     ]
    }
   ],
   "source": [
    "# Delete a record\n",
    "cursor.execute(\"DELETE FROM users WHERE name = ?\", ('Alice',))\n",
    "conn.commit()\n",
    "cursor.execute(\"SELECT * FROM users\")\n",
    "rows = cursor.fetchall()\n",
    "print(rows)"
   ]
  },
  {
   "cell_type": "code",
   "execution_count": 11,
   "id": "5ef2c499",
   "metadata": {},
   "outputs": [],
   "source": [
    "cursor.execute(\"INSERT INTO users (name, age) VALUES (?, ?)\", ('Alice', 30))\n",
    "conn.commit()"
   ]
  },
  {
   "cell_type": "code",
   "execution_count": 12,
   "id": "1b751b38",
   "metadata": {},
   "outputs": [],
   "source": [
    "# Working with Sales Data\n",
    "# Connect to a database\n",
    "conn = sqlite3.connect('sales_data.db')\n",
    "cursor = conn.cursor()\n",
    "\n",
    "# Create a table for sales data\n",
    "cursor.execute('''CREATE TABLE IF NOT EXISTS sales\n",
    "                  (id INTEGER PRIMARY KEY, product TEXT, quantity INTEGER, price REAL)''')\n",
    "sales_data = [\n",
    "    ('Laptop', 5, 999.99),\n",
    "    ('Smartphone', 10, 499.99),\n",
    "    ('Tablet', 7, 299.99),\n",
    "    ('Headphones', 15, 89.99),\n",
    "    ('Smartwatch', 8, 199.99),\n",
    "    ('Camera', 4, 599.99),\n",
    "    ('Printer', 6, 149.99),\n",
    "    ('Monitor', 3, 249.99),\n",
    "    ('Keyboard', 12, 49.99),\n",
    "    ('Mouse', 20, 29.99)]\n",
    "\n",
    "conn.commit()\n",
    "\n",
    "cursor.executemany(\n",
    "    \"INSERT INTO sales (product, quantity, price) VALUES (?, ?, ?)\", sales_data\n",
    ")\n",
    "conn.commit()"
   ]
  },
  {
   "cell_type": "code",
   "execution_count": 13,
   "id": "fbf65b7c",
   "metadata": {},
   "outputs": [
    {
     "name": "stdout",
     "output_type": "stream",
     "text": [
      "(1, 'Laptop', 5, 999.99)\n",
      "(2, 'Smartphone', 10, 499.99)\n",
      "(3, 'Tablet', 7, 299.99)\n",
      "(4, 'Headphones', 15, 89.99)\n",
      "(5, 'Smartwatch', 8, 199.99)\n",
      "(6, 'Camera', 4, 599.99)\n",
      "(7, 'Printer', 6, 149.99)\n",
      "(8, 'Monitor', 3, 249.99)\n",
      "(9, 'Keyboard', 12, 49.99)\n",
      "(10, 'Mouse', 20, 29.99)\n",
      "(11, 'Laptop', 5, 999.99)\n",
      "(12, 'Smartphone', 10, 499.99)\n",
      "(13, 'Tablet', 7, 299.99)\n",
      "(14, 'Headphones', 15, 89.99)\n",
      "(15, 'Smartwatch', 8, 199.99)\n",
      "(16, 'Camera', 4, 599.99)\n",
      "(17, 'Printer', 6, 149.99)\n",
      "(18, 'Monitor', 3, 249.99)\n",
      "(19, 'Keyboard', 12, 49.99)\n",
      "(20, 'Mouse', 20, 29.99)\n"
     ]
    }
   ],
   "source": [
    "cursor.execute(\"SELECT * FROM sales\")\n",
    "rows = cursor.fetchall()\n",
    "for row in rows:\n",
    "    print(row)"
   ]
  },
  {
   "cell_type": "code",
   "execution_count": null,
   "id": "c727bef7",
   "metadata": {},
   "outputs": [],
   "source": []
  }
 ],
 "metadata": {
  "kernelspec": {
   "display_name": "my_env",
   "language": "python",
   "name": "python3"
  },
  "language_info": {
   "codemirror_mode": {
    "name": "ipython",
    "version": 3
   },
   "file_extension": ".py",
   "mimetype": "text/x-python",
   "name": "python",
   "nbconvert_exporter": "python",
   "pygments_lexer": "ipython3",
   "version": "3.12.2"
  }
 },
 "nbformat": 4,
 "nbformat_minor": 5
}
